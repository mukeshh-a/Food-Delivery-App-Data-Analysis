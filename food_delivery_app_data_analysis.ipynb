{
    "metadata": {
        "kernelspec": {
            "name": "python3",
            "display_name": "Python 3 (ipykernel)",
            "language": "python"
        },
        "language_info": {
            "name": "python",
            "version": "3.8.10",
            "mimetype": "text/x-python",
            "codemirror_mode": {
                "name": "ipython",
                "version": 3
            },
            "pygments_lexer": "ipython3",
            "nbconvert_exporter": "python",
            "file_extension": ".py"
        }
    },
    "nbformat_minor": 2,
    "nbformat": 4,
    "cells": [
        {
            "cell_type": "markdown",
            "source": [
                "# **Food Delivery App Data Analysis**\n",
                "\n",
                "We are analysing a real world dataset of a famous food delivery app. The Data Cleaning will be done using python."
            ],
            "metadata": {
                "language": "python",
                "azdata_cell_guid": "df3f9ee1-9bf8-41c0-ab82-59223c3cdb47"
            },
            "attachments": {}
        },
        {
            "cell_type": "markdown",
            "source": [
                "Let us call in the required libraries for the cleaning process."
            ],
            "metadata": {
                "language": "python",
                "azdata_cell_guid": "8b7f3411-2817-4c04-8179-7a7d81526f96"
            },
            "attachments": {}
        },
        {
            "cell_type": "code",
            "source": [
                "# import the pandas library\r\n",
                "import pandas as pd \r\n",
                "\r\n",
                "# import numpy library\r\n",
                "import numpy as np "
            ],
            "metadata": {
                "azdata_cell_guid": "ea66c639-52a2-4a47-9e5c-c921cb7f6b0e",
                "language": "python"
            },
            "outputs": [],
            "execution_count": 29
        },
        {
            "cell_type": "code",
            "source": [
                "df = pd.read_csv(r\"C:\\Users\\mukes\\Downloads\\zomato.csv\")\r\n",
                "df"
            ],
            "metadata": {
                "azdata_cell_guid": "1d6ff3cd-96d0-475b-8753-c09ff8d50228",
                "language": "python"
            },
            "outputs": [
                {
                    "data": {
                        "text/plain": "                                                 address   \n0      942, 21st Main Road, 2nd Stage, Banashankari, ...  \\\n1      2nd Floor, 80 Feet Road, Near Big Bazaar, 6th ...   \n2      1112, Next to KIMS Medical College, 17th Cross...   \n3      1st Floor, Annakuteera, 3rd Stage, Banashankar...   \n4      10, 3rd Floor, Lakshmi Associates, Gandhi Baza...   \n...                                                  ...   \n56247  Four Points by Sheraton Bengaluru, 43/3, White...   \n56248  Number 10, Garudachar Palya, Mahadevapura, Whi...   \n56249  Sheraton Grand Bengaluru Whitefield Hotel & Co...   \n56250  Sheraton Grand Bengaluru Whitefield Hotel & Co...   \n56251  ITPL Main Road, KIADB Export Promotion Industr...   \n\n                                                    name online_order   \n0                                                  Jalsa          Yes  \\\n1                                         Spice Elephant          Yes   \n2                                        San Churro Cafe          Yes   \n3                                  Addhuri Udupi Bhojana           No   \n4                                          Grand Village           No   \n...                                                  ...          ...   \n56247  Best Brews - Four Points by Sheraton Bengaluru...           No   \n56248                           Vinod Bar And Restaurant           No   \n56249  Plunge - Sheraton Grand Bengaluru Whitefield H...           No   \n56250  Chime - Sheraton Grand Bengaluru Whitefield Ho...           No   \n56251                       The Nest - The Den Bengaluru           No   \n\n      book_table    rate votes                             phone   \n0            Yes   4.1/5   775    080 42297555\\r\\n+91 9743772233  \\\n1             No   4.1/5   787                      080 41714161   \n2             No   3.8/5   918                    +91 9663487993   \n3             No   3.7/5    88                    +91 9620009302   \n4             No   3.8/5   166  +91 8026612447\\r\\n+91 9901210005   \n...          ...     ...   ...                               ...   \n56247         No  3.6 /5    27                      080 40301477   \n56248         No     NaN     0                    +91 8197675843   \n56249         No     NaN     0                               NaN   \n56250        Yes  4.3 /5   236                      080 49652769   \n56251         No  3.4 /5    13                    +91 8071117272   \n\n                         location            rest_type   \n0                    Banashankari        Casual Dining  \\\n1                    Banashankari        Casual Dining   \n2                    Banashankari  Cafe, Casual Dining   \n3                    Banashankari          Quick Bites   \n4                    Basavanagudi        Casual Dining   \n...                           ...                  ...   \n56247                  Whitefield                  Bar   \n56248                  Whitefield                  Bar   \n56249                  Whitefield                  Bar   \n56250  ITPL Main Road, Whitefield                  Bar   \n56251  ITPL Main Road, Whitefield   Bar, Casual Dining   \n\n                                              dish_liked   \n0      Pasta, Lunch Buffet, Masala Papad, Paneer Laja...  \\\n1      Momos, Lunch Buffet, Chocolate Nirvana, Thai G...   \n2      Churros, Cannelloni, Minestrone Soup, Hot Choc...   \n3                                            Masala Dosa   \n4                                    Panipuri, Gol Gappe   \n...                                                  ...   \n56247                                                NaN   \n56248                                                NaN   \n56249                                                NaN   \n56250                       Cocktails, Pizza, Buttermilk   \n56251                                                NaN   \n\n                                     cuisines approx_cost(for two people)   \n0              North Indian, Mughlai, Chinese                         800  \\\n1                 Chinese, North Indian, Thai                         800   \n2                      Cafe, Mexican, Italian                         800   \n3                  South Indian, North Indian                         300   \n4                    North Indian, Rajasthani                         600   \n...                                       ...                         ...   \n56247                             Continental                       1,500   \n56248                             Finger Food                         600   \n56249                             Finger Food                       2,000   \n56250                             Finger Food                       2,500   \n56251  Finger Food, North Indian, Continental                       1,500   \n\n      listed_in(type)  \n0              Buffet  \n1              Buffet  \n2              Buffet  \n3              Buffet  \n4              Buffet  \n...               ...  \n56247   Pubs and bars  \n56248   Pubs and bars  \n56249   Pubs and bars  \n56250   Pubs and bars  \n56251   Pubs and bars  \n\n[56252 rows x 13 columns]",
                        "text/html": "<div>\n<style scoped>\n    .dataframe tbody tr th:only-of-type {\n        vertical-align: middle;\n    }\n\n    .dataframe tbody tr th {\n        vertical-align: top;\n    }\n\n    .dataframe thead th {\n        text-align: right;\n    }\n</style>\n<table border=\"1\" class=\"dataframe\">\n  <thead>\n    <tr style=\"text-align: right;\">\n      <th></th>\n      <th>address</th>\n      <th>name</th>\n      <th>online_order</th>\n      <th>book_table</th>\n      <th>rate</th>\n      <th>votes</th>\n      <th>phone</th>\n      <th>location</th>\n      <th>rest_type</th>\n      <th>dish_liked</th>\n      <th>cuisines</th>\n      <th>approx_cost(for two people)</th>\n      <th>listed_in(type)</th>\n    </tr>\n  </thead>\n  <tbody>\n    <tr>\n      <th>0</th>\n      <td>942, 21st Main Road, 2nd Stage, Banashankari, ...</td>\n      <td>Jalsa</td>\n      <td>Yes</td>\n      <td>Yes</td>\n      <td>4.1/5</td>\n      <td>775</td>\n      <td>080 42297555\\r\\n+91 9743772233</td>\n      <td>Banashankari</td>\n      <td>Casual Dining</td>\n      <td>Pasta, Lunch Buffet, Masala Papad, Paneer Laja...</td>\n      <td>North Indian, Mughlai, Chinese</td>\n      <td>800</td>\n      <td>Buffet</td>\n    </tr>\n    <tr>\n      <th>1</th>\n      <td>2nd Floor, 80 Feet Road, Near Big Bazaar, 6th ...</td>\n      <td>Spice Elephant</td>\n      <td>Yes</td>\n      <td>No</td>\n      <td>4.1/5</td>\n      <td>787</td>\n      <td>080 41714161</td>\n      <td>Banashankari</td>\n      <td>Casual Dining</td>\n      <td>Momos, Lunch Buffet, Chocolate Nirvana, Thai G...</td>\n      <td>Chinese, North Indian, Thai</td>\n      <td>800</td>\n      <td>Buffet</td>\n    </tr>\n    <tr>\n      <th>2</th>\n      <td>1112, Next to KIMS Medical College, 17th Cross...</td>\n      <td>San Churro Cafe</td>\n      <td>Yes</td>\n      <td>No</td>\n      <td>3.8/5</td>\n      <td>918</td>\n      <td>+91 9663487993</td>\n      <td>Banashankari</td>\n      <td>Cafe, Casual Dining</td>\n      <td>Churros, Cannelloni, Minestrone Soup, Hot Choc...</td>\n      <td>Cafe, Mexican, Italian</td>\n      <td>800</td>\n      <td>Buffet</td>\n    </tr>\n    <tr>\n      <th>3</th>\n      <td>1st Floor, Annakuteera, 3rd Stage, Banashankar...</td>\n      <td>Addhuri Udupi Bhojana</td>\n      <td>No</td>\n      <td>No</td>\n      <td>3.7/5</td>\n      <td>88</td>\n      <td>+91 9620009302</td>\n      <td>Banashankari</td>\n      <td>Quick Bites</td>\n      <td>Masala Dosa</td>\n      <td>South Indian, North Indian</td>\n      <td>300</td>\n      <td>Buffet</td>\n    </tr>\n    <tr>\n      <th>4</th>\n      <td>10, 3rd Floor, Lakshmi Associates, Gandhi Baza...</td>\n      <td>Grand Village</td>\n      <td>No</td>\n      <td>No</td>\n      <td>3.8/5</td>\n      <td>166</td>\n      <td>+91 8026612447\\r\\n+91 9901210005</td>\n      <td>Basavanagudi</td>\n      <td>Casual Dining</td>\n      <td>Panipuri, Gol Gappe</td>\n      <td>North Indian, Rajasthani</td>\n      <td>600</td>\n      <td>Buffet</td>\n    </tr>\n    <tr>\n      <th>...</th>\n      <td>...</td>\n      <td>...</td>\n      <td>...</td>\n      <td>...</td>\n      <td>...</td>\n      <td>...</td>\n      <td>...</td>\n      <td>...</td>\n      <td>...</td>\n      <td>...</td>\n      <td>...</td>\n      <td>...</td>\n      <td>...</td>\n    </tr>\n    <tr>\n      <th>56247</th>\n      <td>Four Points by Sheraton Bengaluru, 43/3, White...</td>\n      <td>Best Brews - Four Points by Sheraton Bengaluru...</td>\n      <td>No</td>\n      <td>No</td>\n      <td>3.6 /5</td>\n      <td>27</td>\n      <td>080 40301477</td>\n      <td>Whitefield</td>\n      <td>Bar</td>\n      <td>NaN</td>\n      <td>Continental</td>\n      <td>1,500</td>\n      <td>Pubs and bars</td>\n    </tr>\n    <tr>\n      <th>56248</th>\n      <td>Number 10, Garudachar Palya, Mahadevapura, Whi...</td>\n      <td>Vinod Bar And Restaurant</td>\n      <td>No</td>\n      <td>No</td>\n      <td>NaN</td>\n      <td>0</td>\n      <td>+91 8197675843</td>\n      <td>Whitefield</td>\n      <td>Bar</td>\n      <td>NaN</td>\n      <td>Finger Food</td>\n      <td>600</td>\n      <td>Pubs and bars</td>\n    </tr>\n    <tr>\n      <th>56249</th>\n      <td>Sheraton Grand Bengaluru Whitefield Hotel &amp; Co...</td>\n      <td>Plunge - Sheraton Grand Bengaluru Whitefield H...</td>\n      <td>No</td>\n      <td>No</td>\n      <td>NaN</td>\n      <td>0</td>\n      <td>NaN</td>\n      <td>Whitefield</td>\n      <td>Bar</td>\n      <td>NaN</td>\n      <td>Finger Food</td>\n      <td>2,000</td>\n      <td>Pubs and bars</td>\n    </tr>\n    <tr>\n      <th>56250</th>\n      <td>Sheraton Grand Bengaluru Whitefield Hotel &amp; Co...</td>\n      <td>Chime - Sheraton Grand Bengaluru Whitefield Ho...</td>\n      <td>No</td>\n      <td>Yes</td>\n      <td>4.3 /5</td>\n      <td>236</td>\n      <td>080 49652769</td>\n      <td>ITPL Main Road, Whitefield</td>\n      <td>Bar</td>\n      <td>Cocktails, Pizza, Buttermilk</td>\n      <td>Finger Food</td>\n      <td>2,500</td>\n      <td>Pubs and bars</td>\n    </tr>\n    <tr>\n      <th>56251</th>\n      <td>ITPL Main Road, KIADB Export Promotion Industr...</td>\n      <td>The Nest - The Den Bengaluru</td>\n      <td>No</td>\n      <td>No</td>\n      <td>3.4 /5</td>\n      <td>13</td>\n      <td>+91 8071117272</td>\n      <td>ITPL Main Road, Whitefield</td>\n      <td>Bar, Casual Dining</td>\n      <td>NaN</td>\n      <td>Finger Food, North Indian, Continental</td>\n      <td>1,500</td>\n      <td>Pubs and bars</td>\n    </tr>\n  </tbody>\n</table>\n<p>56252 rows × 13 columns</p>\n</div>"
                    },
                    "metadata": {},
                    "execution_count": 4,
                    "output_type": "execute_result"
                }
            ],
            "execution_count": 4
        },
        {
            "cell_type": "code",
            "source": [
                "df.info()"
            ],
            "metadata": {
                "azdata_cell_guid": "1eb4b207-41a2-42e8-9aab-ea0195b9b627",
                "language": "python"
            },
            "outputs": [
                {
                    "name": "stdout",
                    "text": "<class 'pandas.core.frame.DataFrame'>\nRangeIndex: 56252 entries, 0 to 56251\nData columns (total 13 columns):\n #   Column                       Non-Null Count  Dtype \n---  ------                       --------------  ----- \n 0   address                      56235 non-null  object\n 1   name                         56236 non-null  object\n 2   online_order                 56233 non-null  object\n 3   book_table                   56194 non-null  object\n 4   rate                         48414 non-null  object\n 5   votes                        56174 non-null  object\n 6   phone                        54956 non-null  object\n 7   location                     56126 non-null  object\n 8   rest_type                    55914 non-null  object\n 9   dish_liked                   28027 non-null  object\n 10  cuisines                     56049 non-null  object\n 11  approx_cost(for two people)  55731 non-null  object\n 12  listed_in(type)              51642 non-null  object\ndtypes: object(13)\nmemory usage: 5.6+ MB\n",
                    "output_type": "stream"
                }
            ],
            "execution_count": 5
        },
        {
            "cell_type": "markdown",
            "source": [
                "## Remove Unwanted Columns"
            ],
            "metadata": {
                "language": "python",
                "azdata_cell_guid": "113ad4c9-1e3e-4d51-bc5a-d5160585c303"
            },
            "attachments": {}
        },
        {
            "cell_type": "code",
            "source": [
                "# removing unwanted columns \"address\" and \"phone\"\r\n",
                "\r\n",
                "df.drop(columns=[\"address\",\"phone\"],axis=1,inplace=True)\r\n",
                "df"
            ],
            "metadata": {
                "azdata_cell_guid": "c0caa133-7a87-4abd-a323-cfd0bd2b479b",
                "language": "python"
            },
            "outputs": [
                {
                    "data": {
                        "text/plain": "                                                    name online_order   \n0                                                  Jalsa          Yes  \\\n1                                         Spice Elephant          Yes   \n2                                        San Churro Cafe          Yes   \n3                                  Addhuri Udupi Bhojana           No   \n4                                          Grand Village           No   \n...                                                  ...          ...   \n56247  Best Brews - Four Points by Sheraton Bengaluru...           No   \n56248                           Vinod Bar And Restaurant           No   \n56249  Plunge - Sheraton Grand Bengaluru Whitefield H...           No   \n56250  Chime - Sheraton Grand Bengaluru Whitefield Ho...           No   \n56251                       The Nest - The Den Bengaluru           No   \n\n      book_table    rate votes                    location   \n0            Yes   4.1/5   775                Banashankari  \\\n1             No   4.1/5   787                Banashankari   \n2             No   3.8/5   918                Banashankari   \n3             No   3.7/5    88                Banashankari   \n4             No   3.8/5   166                Basavanagudi   \n...          ...     ...   ...                         ...   \n56247         No  3.6 /5    27                  Whitefield   \n56248         No     NaN     0                  Whitefield   \n56249         No     NaN     0                  Whitefield   \n56250        Yes  4.3 /5   236  ITPL Main Road, Whitefield   \n56251         No  3.4 /5    13  ITPL Main Road, Whitefield   \n\n                 rest_type                                         dish_liked   \n0            Casual Dining  Pasta, Lunch Buffet, Masala Papad, Paneer Laja...  \\\n1            Casual Dining  Momos, Lunch Buffet, Chocolate Nirvana, Thai G...   \n2      Cafe, Casual Dining  Churros, Cannelloni, Minestrone Soup, Hot Choc...   \n3              Quick Bites                                        Masala Dosa   \n4            Casual Dining                                Panipuri, Gol Gappe   \n...                    ...                                                ...   \n56247                  Bar                                                NaN   \n56248                  Bar                                                NaN   \n56249                  Bar                                                NaN   \n56250                  Bar                       Cocktails, Pizza, Buttermilk   \n56251   Bar, Casual Dining                                                NaN   \n\n                                     cuisines approx_cost(for two people)   \n0              North Indian, Mughlai, Chinese                         800  \\\n1                 Chinese, North Indian, Thai                         800   \n2                      Cafe, Mexican, Italian                         800   \n3                  South Indian, North Indian                         300   \n4                    North Indian, Rajasthani                         600   \n...                                       ...                         ...   \n56247                             Continental                       1,500   \n56248                             Finger Food                         600   \n56249                             Finger Food                       2,000   \n56250                             Finger Food                       2,500   \n56251  Finger Food, North Indian, Continental                       1,500   \n\n      listed_in(type)  \n0              Buffet  \n1              Buffet  \n2              Buffet  \n3              Buffet  \n4              Buffet  \n...               ...  \n56247   Pubs and bars  \n56248   Pubs and bars  \n56249   Pubs and bars  \n56250   Pubs and bars  \n56251   Pubs and bars  \n\n[56252 rows x 11 columns]",
                        "text/html": "<div>\n<style scoped>\n    .dataframe tbody tr th:only-of-type {\n        vertical-align: middle;\n    }\n\n    .dataframe tbody tr th {\n        vertical-align: top;\n    }\n\n    .dataframe thead th {\n        text-align: right;\n    }\n</style>\n<table border=\"1\" class=\"dataframe\">\n  <thead>\n    <tr style=\"text-align: right;\">\n      <th></th>\n      <th>name</th>\n      <th>online_order</th>\n      <th>book_table</th>\n      <th>rate</th>\n      <th>votes</th>\n      <th>location</th>\n      <th>rest_type</th>\n      <th>dish_liked</th>\n      <th>cuisines</th>\n      <th>approx_cost(for two people)</th>\n      <th>listed_in(type)</th>\n    </tr>\n  </thead>\n  <tbody>\n    <tr>\n      <th>0</th>\n      <td>Jalsa</td>\n      <td>Yes</td>\n      <td>Yes</td>\n      <td>4.1/5</td>\n      <td>775</td>\n      <td>Banashankari</td>\n      <td>Casual Dining</td>\n      <td>Pasta, Lunch Buffet, Masala Papad, Paneer Laja...</td>\n      <td>North Indian, Mughlai, Chinese</td>\n      <td>800</td>\n      <td>Buffet</td>\n    </tr>\n    <tr>\n      <th>1</th>\n      <td>Spice Elephant</td>\n      <td>Yes</td>\n      <td>No</td>\n      <td>4.1/5</td>\n      <td>787</td>\n      <td>Banashankari</td>\n      <td>Casual Dining</td>\n      <td>Momos, Lunch Buffet, Chocolate Nirvana, Thai G...</td>\n      <td>Chinese, North Indian, Thai</td>\n      <td>800</td>\n      <td>Buffet</td>\n    </tr>\n    <tr>\n      <th>2</th>\n      <td>San Churro Cafe</td>\n      <td>Yes</td>\n      <td>No</td>\n      <td>3.8/5</td>\n      <td>918</td>\n      <td>Banashankari</td>\n      <td>Cafe, Casual Dining</td>\n      <td>Churros, Cannelloni, Minestrone Soup, Hot Choc...</td>\n      <td>Cafe, Mexican, Italian</td>\n      <td>800</td>\n      <td>Buffet</td>\n    </tr>\n    <tr>\n      <th>3</th>\n      <td>Addhuri Udupi Bhojana</td>\n      <td>No</td>\n      <td>No</td>\n      <td>3.7/5</td>\n      <td>88</td>\n      <td>Banashankari</td>\n      <td>Quick Bites</td>\n      <td>Masala Dosa</td>\n      <td>South Indian, North Indian</td>\n      <td>300</td>\n      <td>Buffet</td>\n    </tr>\n    <tr>\n      <th>4</th>\n      <td>Grand Village</td>\n      <td>No</td>\n      <td>No</td>\n      <td>3.8/5</td>\n      <td>166</td>\n      <td>Basavanagudi</td>\n      <td>Casual Dining</td>\n      <td>Panipuri, Gol Gappe</td>\n      <td>North Indian, Rajasthani</td>\n      <td>600</td>\n      <td>Buffet</td>\n    </tr>\n    <tr>\n      <th>...</th>\n      <td>...</td>\n      <td>...</td>\n      <td>...</td>\n      <td>...</td>\n      <td>...</td>\n      <td>...</td>\n      <td>...</td>\n      <td>...</td>\n      <td>...</td>\n      <td>...</td>\n      <td>...</td>\n    </tr>\n    <tr>\n      <th>56247</th>\n      <td>Best Brews - Four Points by Sheraton Bengaluru...</td>\n      <td>No</td>\n      <td>No</td>\n      <td>3.6 /5</td>\n      <td>27</td>\n      <td>Whitefield</td>\n      <td>Bar</td>\n      <td>NaN</td>\n      <td>Continental</td>\n      <td>1,500</td>\n      <td>Pubs and bars</td>\n    </tr>\n    <tr>\n      <th>56248</th>\n      <td>Vinod Bar And Restaurant</td>\n      <td>No</td>\n      <td>No</td>\n      <td>NaN</td>\n      <td>0</td>\n      <td>Whitefield</td>\n      <td>Bar</td>\n      <td>NaN</td>\n      <td>Finger Food</td>\n      <td>600</td>\n      <td>Pubs and bars</td>\n    </tr>\n    <tr>\n      <th>56249</th>\n      <td>Plunge - Sheraton Grand Bengaluru Whitefield H...</td>\n      <td>No</td>\n      <td>No</td>\n      <td>NaN</td>\n      <td>0</td>\n      <td>Whitefield</td>\n      <td>Bar</td>\n      <td>NaN</td>\n      <td>Finger Food</td>\n      <td>2,000</td>\n      <td>Pubs and bars</td>\n    </tr>\n    <tr>\n      <th>56250</th>\n      <td>Chime - Sheraton Grand Bengaluru Whitefield Ho...</td>\n      <td>No</td>\n      <td>Yes</td>\n      <td>4.3 /5</td>\n      <td>236</td>\n      <td>ITPL Main Road, Whitefield</td>\n      <td>Bar</td>\n      <td>Cocktails, Pizza, Buttermilk</td>\n      <td>Finger Food</td>\n      <td>2,500</td>\n      <td>Pubs and bars</td>\n    </tr>\n    <tr>\n      <th>56251</th>\n      <td>The Nest - The Den Bengaluru</td>\n      <td>No</td>\n      <td>No</td>\n      <td>3.4 /5</td>\n      <td>13</td>\n      <td>ITPL Main Road, Whitefield</td>\n      <td>Bar, Casual Dining</td>\n      <td>NaN</td>\n      <td>Finger Food, North Indian, Continental</td>\n      <td>1,500</td>\n      <td>Pubs and bars</td>\n    </tr>\n  </tbody>\n</table>\n<p>56252 rows × 11 columns</p>\n</div>"
                    },
                    "metadata": {},
                    "execution_count": 6,
                    "output_type": "execute_result"
                }
            ],
            "execution_count": 6
        },
        {
            "cell_type": "markdown",
            "source": [
                "## Rename Columns"
            ],
            "metadata": {
                "language": "python",
                "azdata_cell_guid": "ec7fe4fe-bc3e-4d60-954e-deb77a11bcf2"
            },
            "attachments": {}
        },
        {
            "cell_type": "code",
            "source": [
                "# specifying the column names i am going to use from here on\r\n",
                "\r\n",
                "new_columns = {\r\n",
                "    'rate':'rating',\r\n",
                "    'approx_cost(for two people)':'approx_cost', \r\n",
                "    'listed_in(type)':'type'}\r\n",
                "\r\n",
                "# renaming the columns now\r\n",
                "\r\n",
                "df.rename(new_columns, axis = 1, inplace = True)\r\n",
                "df"
            ],
            "metadata": {
                "language": "python",
                "azdata_cell_guid": "60359842-de69-40d8-8eec-735809498811"
            },
            "outputs": [
                {
                    "data": {
                        "text/plain": "                                                    name online_order   \n0                                                  Jalsa          Yes  \\\n1                                         Spice Elephant          Yes   \n2                                        San Churro Cafe          Yes   \n3                                  Addhuri Udupi Bhojana           No   \n4                                          Grand Village           No   \n...                                                  ...          ...   \n56247  Best Brews - Four Points by Sheraton Bengaluru...           No   \n56248                           Vinod Bar And Restaurant           No   \n56249  Plunge - Sheraton Grand Bengaluru Whitefield H...           No   \n56250  Chime - Sheraton Grand Bengaluru Whitefield Ho...           No   \n56251                       The Nest - The Den Bengaluru           No   \n\n      book_table  rating votes                    location   \n0            Yes   4.1/5   775                Banashankari  \\\n1             No   4.1/5   787                Banashankari   \n2             No   3.8/5   918                Banashankari   \n3             No   3.7/5    88                Banashankari   \n4             No   3.8/5   166                Basavanagudi   \n...          ...     ...   ...                         ...   \n56247         No  3.6 /5    27                  Whitefield   \n56248         No     NaN     0                  Whitefield   \n56249         No     NaN     0                  Whitefield   \n56250        Yes  4.3 /5   236  ITPL Main Road, Whitefield   \n56251         No  3.4 /5    13  ITPL Main Road, Whitefield   \n\n                 rest_type                                         dish_liked   \n0            Casual Dining  Pasta, Lunch Buffet, Masala Papad, Paneer Laja...  \\\n1            Casual Dining  Momos, Lunch Buffet, Chocolate Nirvana, Thai G...   \n2      Cafe, Casual Dining  Churros, Cannelloni, Minestrone Soup, Hot Choc...   \n3              Quick Bites                                        Masala Dosa   \n4            Casual Dining                                Panipuri, Gol Gappe   \n...                    ...                                                ...   \n56247                  Bar                                                NaN   \n56248                  Bar                                                NaN   \n56249                  Bar                                                NaN   \n56250                  Bar                       Cocktails, Pizza, Buttermilk   \n56251   Bar, Casual Dining                                                NaN   \n\n                                     cuisines approx_cost           type  \n0              North Indian, Mughlai, Chinese         800         Buffet  \n1                 Chinese, North Indian, Thai         800         Buffet  \n2                      Cafe, Mexican, Italian         800         Buffet  \n3                  South Indian, North Indian         300         Buffet  \n4                    North Indian, Rajasthani         600         Buffet  \n...                                       ...         ...            ...  \n56247                             Continental       1,500  Pubs and bars  \n56248                             Finger Food         600  Pubs and bars  \n56249                             Finger Food       2,000  Pubs and bars  \n56250                             Finger Food       2,500  Pubs and bars  \n56251  Finger Food, North Indian, Continental       1,500  Pubs and bars  \n\n[56252 rows x 11 columns]",
                        "text/html": "<div>\n<style scoped>\n    .dataframe tbody tr th:only-of-type {\n        vertical-align: middle;\n    }\n\n    .dataframe tbody tr th {\n        vertical-align: top;\n    }\n\n    .dataframe thead th {\n        text-align: right;\n    }\n</style>\n<table border=\"1\" class=\"dataframe\">\n  <thead>\n    <tr style=\"text-align: right;\">\n      <th></th>\n      <th>name</th>\n      <th>online_order</th>\n      <th>book_table</th>\n      <th>rating</th>\n      <th>votes</th>\n      <th>location</th>\n      <th>rest_type</th>\n      <th>dish_liked</th>\n      <th>cuisines</th>\n      <th>approx_cost</th>\n      <th>type</th>\n    </tr>\n  </thead>\n  <tbody>\n    <tr>\n      <th>0</th>\n      <td>Jalsa</td>\n      <td>Yes</td>\n      <td>Yes</td>\n      <td>4.1/5</td>\n      <td>775</td>\n      <td>Banashankari</td>\n      <td>Casual Dining</td>\n      <td>Pasta, Lunch Buffet, Masala Papad, Paneer Laja...</td>\n      <td>North Indian, Mughlai, Chinese</td>\n      <td>800</td>\n      <td>Buffet</td>\n    </tr>\n    <tr>\n      <th>1</th>\n      <td>Spice Elephant</td>\n      <td>Yes</td>\n      <td>No</td>\n      <td>4.1/5</td>\n      <td>787</td>\n      <td>Banashankari</td>\n      <td>Casual Dining</td>\n      <td>Momos, Lunch Buffet, Chocolate Nirvana, Thai G...</td>\n      <td>Chinese, North Indian, Thai</td>\n      <td>800</td>\n      <td>Buffet</td>\n    </tr>\n    <tr>\n      <th>2</th>\n      <td>San Churro Cafe</td>\n      <td>Yes</td>\n      <td>No</td>\n      <td>3.8/5</td>\n      <td>918</td>\n      <td>Banashankari</td>\n      <td>Cafe, Casual Dining</td>\n      <td>Churros, Cannelloni, Minestrone Soup, Hot Choc...</td>\n      <td>Cafe, Mexican, Italian</td>\n      <td>800</td>\n      <td>Buffet</td>\n    </tr>\n    <tr>\n      <th>3</th>\n      <td>Addhuri Udupi Bhojana</td>\n      <td>No</td>\n      <td>No</td>\n      <td>3.7/5</td>\n      <td>88</td>\n      <td>Banashankari</td>\n      <td>Quick Bites</td>\n      <td>Masala Dosa</td>\n      <td>South Indian, North Indian</td>\n      <td>300</td>\n      <td>Buffet</td>\n    </tr>\n    <tr>\n      <th>4</th>\n      <td>Grand Village</td>\n      <td>No</td>\n      <td>No</td>\n      <td>3.8/5</td>\n      <td>166</td>\n      <td>Basavanagudi</td>\n      <td>Casual Dining</td>\n      <td>Panipuri, Gol Gappe</td>\n      <td>North Indian, Rajasthani</td>\n      <td>600</td>\n      <td>Buffet</td>\n    </tr>\n    <tr>\n      <th>...</th>\n      <td>...</td>\n      <td>...</td>\n      <td>...</td>\n      <td>...</td>\n      <td>...</td>\n      <td>...</td>\n      <td>...</td>\n      <td>...</td>\n      <td>...</td>\n      <td>...</td>\n      <td>...</td>\n    </tr>\n    <tr>\n      <th>56247</th>\n      <td>Best Brews - Four Points by Sheraton Bengaluru...</td>\n      <td>No</td>\n      <td>No</td>\n      <td>3.6 /5</td>\n      <td>27</td>\n      <td>Whitefield</td>\n      <td>Bar</td>\n      <td>NaN</td>\n      <td>Continental</td>\n      <td>1,500</td>\n      <td>Pubs and bars</td>\n    </tr>\n    <tr>\n      <th>56248</th>\n      <td>Vinod Bar And Restaurant</td>\n      <td>No</td>\n      <td>No</td>\n      <td>NaN</td>\n      <td>0</td>\n      <td>Whitefield</td>\n      <td>Bar</td>\n      <td>NaN</td>\n      <td>Finger Food</td>\n      <td>600</td>\n      <td>Pubs and bars</td>\n    </tr>\n    <tr>\n      <th>56249</th>\n      <td>Plunge - Sheraton Grand Bengaluru Whitefield H...</td>\n      <td>No</td>\n      <td>No</td>\n      <td>NaN</td>\n      <td>0</td>\n      <td>Whitefield</td>\n      <td>Bar</td>\n      <td>NaN</td>\n      <td>Finger Food</td>\n      <td>2,000</td>\n      <td>Pubs and bars</td>\n    </tr>\n    <tr>\n      <th>56250</th>\n      <td>Chime - Sheraton Grand Bengaluru Whitefield Ho...</td>\n      <td>No</td>\n      <td>Yes</td>\n      <td>4.3 /5</td>\n      <td>236</td>\n      <td>ITPL Main Road, Whitefield</td>\n      <td>Bar</td>\n      <td>Cocktails, Pizza, Buttermilk</td>\n      <td>Finger Food</td>\n      <td>2,500</td>\n      <td>Pubs and bars</td>\n    </tr>\n    <tr>\n      <th>56251</th>\n      <td>The Nest - The Den Bengaluru</td>\n      <td>No</td>\n      <td>No</td>\n      <td>3.4 /5</td>\n      <td>13</td>\n      <td>ITPL Main Road, Whitefield</td>\n      <td>Bar, Casual Dining</td>\n      <td>NaN</td>\n      <td>Finger Food, North Indian, Continental</td>\n      <td>1,500</td>\n      <td>Pubs and bars</td>\n    </tr>\n  </tbody>\n</table>\n<p>56252 rows × 11 columns</p>\n</div>"
                    },
                    "metadata": {},
                    "execution_count": 9,
                    "output_type": "execute_result"
                }
            ],
            "execution_count": 9
        },
        {
            "cell_type": "markdown",
            "source": [
                "## Handling the Null Values"
            ],
            "metadata": {
                "language": "python",
                "azdata_cell_guid": "d8dad85e-3f2e-498e-8a96-8bf042ce9ad1"
            },
            "attachments": {}
        },
        {
            "cell_type": "code",
            "source": [
                "# check the null values \r\n",
                "\r\n",
                "null_counts = df.isnull().sum()\r\n",
                "print(null_counts)"
            ],
            "metadata": {
                "language": "python",
                "azdata_cell_guid": "4623d761-d837-488d-8440-71c8e4a4b944",
                "tags": []
            },
            "outputs": [
                {
                    "name": "stdout",
                    "text": "name               16\nonline_order       19\nbook_table         58\nrating           7838\nvotes              78\nlocation          126\nrest_type         338\ndish_liked      28225\ncuisines          203\napprox_cost       521\ntype             4610\ndtype: int64\n",
                    "output_type": "stream"
                }
            ],
            "execution_count": 10
        },
        {
            "cell_type": "markdown",
            "source": [
                "There are null values in each column. They can be a hurdle in the analysis. Need to remove or replace them."
            ],
            "metadata": {
                "language": "python",
                "azdata_cell_guid": "10982d95-5945-4451-995f-e3be59ad8bde"
            },
            "attachments": {}
        },
        {
            "cell_type": "code",
            "source": [
                "# replacing/removing null values from each column\r\n",
                "\r\n",
                "df.dropna(subset=['name'],inplace=True)\r\n",
                "df['online_order'].fillna(\"NA\",inplace=True)\r\n",
                "df['book_table'].fillna(\"NA\",inplace=True)\r\n",
                "df['rating'].fillna(0,inplace=True)\r\n",
                "df['votes'].fillna(0,inplace=True)\r\n",
                "df['location'].fillna(\"NA\",inplace=True)\r\n",
                "df['rest_type'].fillna(\"NA\",inplace=True)\r\n",
                "df['dish_liked'].fillna(\"NA\",inplace=True)\r\n",
                "df['cuisines'].fillna(\"NA\",inplace=True)\r\n",
                "df['approx_cost'].fillna(0,inplace=True)\r\n",
                "df['type'].fillna(\"NA\",inplace=True)"
            ],
            "metadata": {
                "language": "python",
                "azdata_cell_guid": "5cfb9457-29b3-41df-b720-48c078ce6146"
            },
            "outputs": [],
            "execution_count": 15
        },
        {
            "cell_type": "code",
            "source": [
                "# checking if the changes got applied to the columns\r\n",
                "\r\n",
                "null_counts = df.isnull().sum()\r\n",
                "print(null_counts)"
            ],
            "metadata": {
                "azdata_cell_guid": "c3764d8a-c771-4b4a-a9f9-c2eecae4587d",
                "language": "python"
            },
            "outputs": [
                {
                    "name": "stdout",
                    "text": "name            0\nonline_order    0\nbook_table      0\nrating          0\nvotes           0\nlocation        0\nrest_type       0\ndish_liked      0\ncuisines        0\napprox_cost     0\ntype            0\ndtype: int64\n",
                    "output_type": "stream"
                }
            ],
            "execution_count": 16
        },
        {
            "cell_type": "markdown",
            "source": [
                "## Handling the Duplicates"
            ],
            "metadata": {
                "language": "python",
                "azdata_cell_guid": "8d6d52b9-8e01-4bbd-bcc0-7651b13e08d4"
            },
            "attachments": {}
        },
        {
            "cell_type": "code",
            "source": [
                "# check the data for any duplicate row\r\n",
                "\r\n",
                "duplicates = df.duplicated().sum()\r\n",
                "print(duplicates)"
            ],
            "metadata": {
                "language": "python",
                "azdata_cell_guid": "fb5c7cf0-5062-4889-a04b-9b70e5a68e70"
            },
            "outputs": [
                {
                    "name": "stdout",
                    "text": "17823\n",
                    "output_type": "stream"
                }
            ],
            "execution_count": 22
        },
        {
            "cell_type": "code",
            "source": [
                "# droping the duplicate rows\r\n",
                "\r\n",
                "df.drop_duplicates(subset = None, keep = 'first', inplace = True)"
            ],
            "metadata": {
                "language": "python",
                "azdata_cell_guid": "11582068-c259-41b0-8940-5eff29bb5e34"
            },
            "outputs": [],
            "execution_count": 23
        },
        {
            "cell_type": "markdown",
            "source": [
                "## Removing irrelevant text from all columns"
            ],
            "metadata": {
                "language": "python",
                "azdata_cell_guid": "1aba0ca1-4350-434b-9e21-df07c77a0fa2"
            },
            "attachments": {}
        },
        {
            "cell_type": "code",
            "source": [
                "\r\n",
                "df['name'] = df['name'].astype(str)\r\n",
                "df['online_order'] = df['online_order'].astype(str)\r\n",
                "df['book_table'] = df['book_table'].astype(str)\r\n",
                "df['rating'] = df['rating'].astype(str)\r\n",
                "df['votes'] = df['votes'].astype(str)\r\n",
                "df['location'] = df['location'].astype(str)\r\n",
                "df['rest_type'] = df['rest_type'].astype(str)\r\n",
                "df['dish_liked'] = df['dish_liked'].astype(str)\r\n",
                "df['cuisines'] = df['cuisines'].astype(str)\r\n",
                "df['approx_cost'] = df['approx_cost'].astype(str)\r\n",
                "df['type'] = df['type'].astype(str)\r\n",
                "\r\n",
                "df = df[~df['name'].str.contains('RATED|Rated')]\r\n",
                "df = df[~df['online_order'].str.contains('RATED|Rated')]\r\n",
                "df = df[~df['book_table'].str.contains('RATED|Rated')]\r\n",
                "df = df[~df['rating'].str.contains('RATED|Rated')]\r\n",
                "df = df[~df['votes'].str.contains('RATED|Rated')]\r\n",
                "df = df[~df['location'].str.contains('RATED|Rated')]\r\n",
                "df = df[~df['rest_type'].str.contains('RATED|Rated')]\r\n",
                "df = df[~df['dish_liked'].str.contains('RATED|Rated')]\r\n",
                "df = df[~df['cuisines'].str.contains('RATED|Rated')]\r\n",
                "df = df[~df['approx_cost'].str.contains('RATED|Rated')]\r\n",
                "df = df[~df['type'].str.contains('RATED|Rated')]\r\n",
                ""
            ],
            "metadata": {
                "language": "python",
                "azdata_cell_guid": "3243f87a-ed84-4249-9a11-95d365dd36eb"
            },
            "outputs": [],
            "execution_count": 27
        },
        {
            "cell_type": "markdown",
            "source": [
                "## Checking for any unique value in every column"
            ],
            "metadata": {
                "language": "python",
                "azdata_cell_guid": "a839fb69-8468-46b4-a054-96625ede2909"
            },
            "attachments": {}
        },
        {
            "cell_type": "code",
            "source": [
                "df = df[df['online_order'].str.contains('Yes|No') == True]\r\n",
                "df[\"rating\"] = df[\"rating\"].replace(\"NEW\", 0)\r\n",
                "df[\"rating\"] = df[\"rating\"].str.replace(\"/5\", \"\")\r\n",
                "df[\"rating\"] = df[\"rating\"].replace(\"-\", np.nan)\r\n",
                "df[\"rating\"].fillna(0, inplace=True)"
            ],
            "metadata": {
                "language": "python",
                "azdata_cell_guid": "b4618ef8-60d6-486b-b0b7-ddf6c4174c09"
            },
            "outputs": [],
            "execution_count": 30
        },
        {
            "cell_type": "code",
            "source": [
                "# removing unknown character from the dataset\r\n",
                "\r\n",
                "df[\"name\"]=df[\"name\"].str.replace(r'[Ãx][^A-Za-z]+','')\r\n",
                "\r\n",
                "#export cleaned Dataset to newcsv file named \"zomatocleaned.csv\"\r\n",
                "\r\n",
                "df.to_csv('zomatocleaned.csv')\r\n",
                "df"
            ],
            "metadata": {
                "azdata_cell_guid": "ab11db04-2159-4b8d-8f73-3e6e69bb6519",
                "language": "python"
            },
            "outputs": [
                {
                    "data": {
                        "text/plain": "                                                    name online_order   \n0                                                  Jalsa          Yes  \\\n1                                         Spice Elephant          Yes   \n2                                        San Churro Cafe          Yes   \n3                                  Addhuri Udupi Bhojana           No   \n4                                          Grand Village           No   \n...                                                  ...          ...   \n56247  Best Brews - Four Points by Sheraton Bengaluru...           No   \n56248                           Vinod Bar And Restaurant           No   \n56249  Plunge - Sheraton Grand Bengaluru Whitefield H...           No   \n56250  Chime - Sheraton Grand Bengaluru Whitefield Ho...           No   \n56251                       The Nest - The Den Bengaluru           No   \n\n      book_table rating votes                    location   \n0            Yes    4.1   775                Banashankari  \\\n1             No    4.1   787                Banashankari   \n2             No    3.8   918                Banashankari   \n3             No    3.7    88                Banashankari   \n4             No    3.8   166                Basavanagudi   \n...          ...    ...   ...                         ...   \n56247         No   3.6     27                  Whitefield   \n56248         No      0     0                  Whitefield   \n56249         No      0     0                  Whitefield   \n56250        Yes   4.3    236  ITPL Main Road, Whitefield   \n56251         No   3.4     13  ITPL Main Road, Whitefield   \n\n                 rest_type                                         dish_liked   \n0            Casual Dining  Pasta, Lunch Buffet, Masala Papad, Paneer Laja...  \\\n1            Casual Dining  Momos, Lunch Buffet, Chocolate Nirvana, Thai G...   \n2      Cafe, Casual Dining  Churros, Cannelloni, Minestrone Soup, Hot Choc...   \n3              Quick Bites                                        Masala Dosa   \n4            Casual Dining                                Panipuri, Gol Gappe   \n...                    ...                                                ...   \n56247                  Bar                                                 NA   \n56248                  Bar                                                 NA   \n56249                  Bar                                                 NA   \n56250                  Bar                       Cocktails, Pizza, Buttermilk   \n56251   Bar, Casual Dining                                                 NA   \n\n                                     cuisines approx_cost           type  \n0              North Indian, Mughlai, Chinese         800         Buffet  \n1                 Chinese, North Indian, Thai         800         Buffet  \n2                      Cafe, Mexican, Italian         800         Buffet  \n3                  South Indian, North Indian         300         Buffet  \n4                    North Indian, Rajasthani         600         Buffet  \n...                                       ...         ...            ...  \n56247                             Continental       1,500  Pubs and bars  \n56248                             Finger Food         600  Pubs and bars  \n56249                             Finger Food       2,000  Pubs and bars  \n56250                             Finger Food       2,500  Pubs and bars  \n56251  Finger Food, North Indian, Continental       1,500  Pubs and bars  \n\n[34273 rows x 11 columns]",
                        "text/html": "<div>\n<style scoped>\n    .dataframe tbody tr th:only-of-type {\n        vertical-align: middle;\n    }\n\n    .dataframe tbody tr th {\n        vertical-align: top;\n    }\n\n    .dataframe thead th {\n        text-align: right;\n    }\n</style>\n<table border=\"1\" class=\"dataframe\">\n  <thead>\n    <tr style=\"text-align: right;\">\n      <th></th>\n      <th>name</th>\n      <th>online_order</th>\n      <th>book_table</th>\n      <th>rating</th>\n      <th>votes</th>\n      <th>location</th>\n      <th>rest_type</th>\n      <th>dish_liked</th>\n      <th>cuisines</th>\n      <th>approx_cost</th>\n      <th>type</th>\n    </tr>\n  </thead>\n  <tbody>\n    <tr>\n      <th>0</th>\n      <td>Jalsa</td>\n      <td>Yes</td>\n      <td>Yes</td>\n      <td>4.1</td>\n      <td>775</td>\n      <td>Banashankari</td>\n      <td>Casual Dining</td>\n      <td>Pasta, Lunch Buffet, Masala Papad, Paneer Laja...</td>\n      <td>North Indian, Mughlai, Chinese</td>\n      <td>800</td>\n      <td>Buffet</td>\n    </tr>\n    <tr>\n      <th>1</th>\n      <td>Spice Elephant</td>\n      <td>Yes</td>\n      <td>No</td>\n      <td>4.1</td>\n      <td>787</td>\n      <td>Banashankari</td>\n      <td>Casual Dining</td>\n      <td>Momos, Lunch Buffet, Chocolate Nirvana, Thai G...</td>\n      <td>Chinese, North Indian, Thai</td>\n      <td>800</td>\n      <td>Buffet</td>\n    </tr>\n    <tr>\n      <th>2</th>\n      <td>San Churro Cafe</td>\n      <td>Yes</td>\n      <td>No</td>\n      <td>3.8</td>\n      <td>918</td>\n      <td>Banashankari</td>\n      <td>Cafe, Casual Dining</td>\n      <td>Churros, Cannelloni, Minestrone Soup, Hot Choc...</td>\n      <td>Cafe, Mexican, Italian</td>\n      <td>800</td>\n      <td>Buffet</td>\n    </tr>\n    <tr>\n      <th>3</th>\n      <td>Addhuri Udupi Bhojana</td>\n      <td>No</td>\n      <td>No</td>\n      <td>3.7</td>\n      <td>88</td>\n      <td>Banashankari</td>\n      <td>Quick Bites</td>\n      <td>Masala Dosa</td>\n      <td>South Indian, North Indian</td>\n      <td>300</td>\n      <td>Buffet</td>\n    </tr>\n    <tr>\n      <th>4</th>\n      <td>Grand Village</td>\n      <td>No</td>\n      <td>No</td>\n      <td>3.8</td>\n      <td>166</td>\n      <td>Basavanagudi</td>\n      <td>Casual Dining</td>\n      <td>Panipuri, Gol Gappe</td>\n      <td>North Indian, Rajasthani</td>\n      <td>600</td>\n      <td>Buffet</td>\n    </tr>\n    <tr>\n      <th>...</th>\n      <td>...</td>\n      <td>...</td>\n      <td>...</td>\n      <td>...</td>\n      <td>...</td>\n      <td>...</td>\n      <td>...</td>\n      <td>...</td>\n      <td>...</td>\n      <td>...</td>\n      <td>...</td>\n    </tr>\n    <tr>\n      <th>56247</th>\n      <td>Best Brews - Four Points by Sheraton Bengaluru...</td>\n      <td>No</td>\n      <td>No</td>\n      <td>3.6</td>\n      <td>27</td>\n      <td>Whitefield</td>\n      <td>Bar</td>\n      <td>NA</td>\n      <td>Continental</td>\n      <td>1,500</td>\n      <td>Pubs and bars</td>\n    </tr>\n    <tr>\n      <th>56248</th>\n      <td>Vinod Bar And Restaurant</td>\n      <td>No</td>\n      <td>No</td>\n      <td>0</td>\n      <td>0</td>\n      <td>Whitefield</td>\n      <td>Bar</td>\n      <td>NA</td>\n      <td>Finger Food</td>\n      <td>600</td>\n      <td>Pubs and bars</td>\n    </tr>\n    <tr>\n      <th>56249</th>\n      <td>Plunge - Sheraton Grand Bengaluru Whitefield H...</td>\n      <td>No</td>\n      <td>No</td>\n      <td>0</td>\n      <td>0</td>\n      <td>Whitefield</td>\n      <td>Bar</td>\n      <td>NA</td>\n      <td>Finger Food</td>\n      <td>2,000</td>\n      <td>Pubs and bars</td>\n    </tr>\n    <tr>\n      <th>56250</th>\n      <td>Chime - Sheraton Grand Bengaluru Whitefield Ho...</td>\n      <td>No</td>\n      <td>Yes</td>\n      <td>4.3</td>\n      <td>236</td>\n      <td>ITPL Main Road, Whitefield</td>\n      <td>Bar</td>\n      <td>Cocktails, Pizza, Buttermilk</td>\n      <td>Finger Food</td>\n      <td>2,500</td>\n      <td>Pubs and bars</td>\n    </tr>\n    <tr>\n      <th>56251</th>\n      <td>The Nest - The Den Bengaluru</td>\n      <td>No</td>\n      <td>No</td>\n      <td>3.4</td>\n      <td>13</td>\n      <td>ITPL Main Road, Whitefield</td>\n      <td>Bar, Casual Dining</td>\n      <td>NA</td>\n      <td>Finger Food, North Indian, Continental</td>\n      <td>1,500</td>\n      <td>Pubs and bars</td>\n    </tr>\n  </tbody>\n</table>\n<p>34273 rows × 11 columns</p>\n</div>"
                    },
                    "metadata": {},
                    "execution_count": 34,
                    "output_type": "execute_result"
                }
            ],
            "execution_count": 34
        },
        {
            "cell_type": "code",
            "source": [
                "df.info()"
            ],
            "metadata": {
                "azdata_cell_guid": "cf2e46e6-e482-4a03-b012-43e0f77cf928",
                "language": "python"
            },
            "outputs": [
                {
                    "name": "stdout",
                    "text": "<class 'pandas.core.frame.DataFrame'>\nIndex: 34273 entries, 0 to 56251\nData columns (total 11 columns):\n #   Column        Non-Null Count  Dtype \n---  ------        --------------  ----- \n 0   name          34273 non-null  object\n 1   online_order  34273 non-null  object\n 2   book_table    34273 non-null  object\n 3   rating        34273 non-null  object\n 4   votes         34273 non-null  object\n 5   location      34273 non-null  object\n 6   rest_type     34273 non-null  object\n 7   dish_liked    34273 non-null  object\n 8   cuisines      34273 non-null  object\n 9   approx_cost   34273 non-null  object\n 10  type          34273 non-null  object\ndtypes: object(11)\nmemory usage: 3.1+ MB\n",
                    "output_type": "stream"
                }
            ],
            "execution_count": 35
        }
    ]
}